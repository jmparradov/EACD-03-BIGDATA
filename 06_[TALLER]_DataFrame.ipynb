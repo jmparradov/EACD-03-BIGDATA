{
  "cells": [
    {
      "cell_type": "markdown",
      "metadata": {
        "id": "view-in-github",
        "colab_type": "text"
      },
      "source": [
        "<a href=\"https://colab.research.google.com/github/jmparradov/EACD-03-BIGDATA/blob/master/06_%5BTALLER%5D_DataFrame.ipynb\" target=\"_parent\"><img src=\"https://colab.research.google.com/assets/colab-badge.svg\" alt=\"Open In Colab\"/></a>"
      ]
    },
    {
      "cell_type": "code",
      "execution_count": 1,
      "metadata": {
        "id": "Z7rbDx_-JApm",
        "outputId": "64c22de9-19f5-4d24-c040-51c8568a7f7d",
        "colab": {
          "base_uri": "https://localhost:8080/"
        }
      },
      "outputs": [
        {
          "output_type": "stream",
          "name": "stdout",
          "text": [
            "replicating local resources\n"
          ]
        }
      ],
      "source": [
        "!wget --no-cache -O init.py -q https://raw.githubusercontent.com/UDEA-Esp-Analitica-y-Ciencia-de-Datos/EACD-03-BIGDATA/master/init.py\n",
        "import init; init.init(force_download=False);\n",
        "from IPython.display import Image"
      ]
    },
    {
      "cell_type": "code",
      "execution_count": null,
      "metadata": {
        "id": "hDzn_xcpJRWR"
      },
      "outputs": [],
      "source": [
        "Image(\"local/imgs/udea-datascience.png\")"
      ]
    },
    {
      "cell_type": "code",
      "source": [
        "#Instalación\n",
        "!apt-get install openjdk-11-jdk-headless -qq > /dev/null\n",
        "!wget -q http://archive.apache.org/dist/spark/spark-3.0.1/spark-3.0.1-bin-hadoop3.2.tgz\n",
        "!tar xf spark-3.0.1-bin-hadoop3.2.tgz\n",
        "!pip install -q findspark\n",
        "\n",
        "#Variables de Entorno\n",
        "import os\n",
        "os.environ[\"JAVA_HOME\"] = \"/usr/lib/jvm/java-11-openjdk-amd64\"\n",
        "os.environ[\"SPARK_HOME\"] = \"/content/spark-3.0.1-bin-hadoop3.2\"\n",
        "\n"
      ],
      "metadata": {
        "id": "duqOaHoJzxCP"
      },
      "execution_count": 13,
      "outputs": []
    },
    {
      "cell_type": "code",
      "source": [
        "#SparkContext\n",
        "import findspark\n",
        "import re\n",
        "\n",
        "from pyspark.sql import SparkSession\n",
        "from pyspark import SparkContext\n",
        "from pyspark.sql import SQLContext\n",
        "\n",
        "from pyspark.sql.types import IntegerType\n",
        "from pyspark.sql.functions import to_timestamp, regexp_replace, lower, when\n",
        "from pyspark.sql.types import StringType\n",
        "\n",
        "# Adding Context\n",
        "findspark.init()\n",
        "spark = SparkSession.builder.master(\"local[*]\").getOrCreate()\n",
        "sc = SparkContext.getOrCreate()\n",
        "sqlCtx = SQLContext(sc)"
      ],
      "metadata": {
        "id": "10v5Lsr_9xTn"
      },
      "execution_count": 42,
      "outputs": []
    },
    {
      "cell_type": "markdown",
      "metadata": {
        "id": "myHD-jFLKEal"
      },
      "source": [
        "# **TALLER 2: DataFrame**\n",
        "## Desarrollado por: Mg. Efraín Alberto Oviedo; Ing. Kevin Martínez Gallego\n",
        "## Universidad de Antioquia"
      ]
    },
    {
      "cell_type": "markdown",
      "metadata": {
        "id": "4GK6iJ1CKS8o"
      },
      "source": [
        "Por favor, ingrese la información de cada integrante del grupo de trabajo\n",
        "\n",
        "**Nombre Completo:** Juan Mauricio Parrado Villa\n",
        "\n",
        "**Cédula:** 1017206626\n",
        "\n",
        "**Correo Institucional:** mauricio.parrado@udea.edu.co"
      ]
    },
    {
      "cell_type": "markdown",
      "metadata": {
        "id": "UlYY1g0lKhz_"
      },
      "source": [
        "#**Análisis de becas académicas para estudiantes Colombianos**\n",
        "\n",
        "El ICETEX ha dispuesto un histórico de becas ofrecidas para estudios de nivel de pregrado y posgrado, presenciales o virtuales, que han sido propuestas para fortalecer la formación académica de ciudadanos colombianos en el exterior.\n",
        "\n",
        "(Disponible en https://www.datos.gov.co/Educaci-n/Icetex-Hist-rico-de-Becas/eb6r-dfgr)\n",
        "\n",
        "Para cada caso se reportan los siguientes datos:\n",
        "\n",
        "* Código Convocatoria\n",
        "* Nombre del Oferente: Nombre del gobierno que ofrece la beca.\n",
        "* Área del Conocimiento\n",
        "* Nombre del Programa\n",
        "* Nombre del País\n",
        "* Fecha de Recepción -mm/dd/aaaa\n",
        "* Perfil del Aplicante\n",
        "* Objetivo del Programa: Breve descripción del programa académico.\n",
        "\n",
        "Se solicita de su ayuda para responder a los siguientes interrogantes:"
      ]
    },
    {
      "cell_type": "code",
      "source": [
        "df_Becas = sqlCtx.read.option(\"header\",True).csv(\"local/data/icetex_becas.csv\")\n",
        "df_Becas.show()"
      ],
      "metadata": {
        "id": "ELvdXDli1LJL",
        "outputId": "1f2867be-4624-4057-e51f-2997b0867869",
        "colab": {
          "base_uri": "https://localhost:8080/"
        }
      },
      "execution_count": 17,
      "outputs": [
        {
          "output_type": "stream",
          "name": "stdout",
          "text": [
            "+-------------------+--------------------+---------------------+--------------------+--------------------+------------------------------+--------------------+---------------------+\n",
            "|Codigo Convocatoria| Nombre del Oferente|Area del Conocimiento| Nombre del programa|     Nombre del País|Fecha de Recepción -mm/dd/aaaa|Perfil del Aplicante|Objetivo del Programa|\n",
            "+-------------------+--------------------+---------------------+--------------------+--------------------+------------------------------+--------------------+---------------------+\n",
            "|          2127916.0|OEA - TOP - ARGEN...|       ADMINISTRACIÓN|POLÍTICAS DE GOBI...|PLATAFORMA DE EDU...|          05/27/2016 12:00:...|El programa está ...| a) Proporcionar a...|\n",
            "|          3101616.0|ALIANZA DEL PACÍF...|     DIFERENTES AREAS|PLATAFORMA DE MOV...|Chile (República ...|                          null|El programa está ...| El objetivo del P...|\n",
            "|          2221414.0|GOBIERNO DE LA INDIA|  INGENIERIA Y AFINES|DATA COMMUNICATIO...|India (República ...|          07/30/2014 12:00:...|\"El Programa \"\"Co...| Ofrecer a los par...|\n",
            "|          3001315.0|MINISTÈRE DE L'EN...| MAESTRÍAS Y DOCTO...|REDUCCIÓN DE COLE...|     Canadá (Canadá)|                          null|El programa está ...| En la presente co...|\n",
            "|          4102316.0|ALIANZA DEL PACÍF...|     DIFERENTES AREAS|PLATAFORMA DE MOV...|Perú (República d...|                          null|\"El programa está...| El objetivo del P...|\n",
            "|          2214713.0|GOBIERNO DE LA INDIA|          HUMANIDADES|PROGRESS TO PROFI...|India (República ...|          07/26/2013 12:00:...|El Programa está ...| Brindar a los par...|\n",
            "|          3900314.0|    UNESCO - L´OREAL| CIENCIAS NATURALE...|INVESTIGACIÓN PAR...|   Diferentes Países|                          null|El programa está ...| Identificar y rec...|\n",
            "|          5202816.0|UNESCO - GOBIERNO...|     DIFERENTES AREAS|PROGRAMA LA GRAN ...|China (República ...|          04/29/2016 12:00:...|\"El programa está...| Ofrecer a profesi...|\n",
            "|          2204712.0|GOBIERNO DE JAPON...|  INGENIERIA Y AFINES|TECNOLOGÍA PRÁCTI...|       Japón (Japón)|                          null|El programa está ...| Brindar a los par...|\n",
            "|          6200312.0|UNIVERSIDAD CARLO...| POSGRADO DIFERENT...|PROGRAMA DE MAEST...|España (Reino de ...|          06/27/2012 12:00:...|El programa está ...| Brindar a profesi...|\n",
            "|          2233116.0|GOBIERNO DE LA INDIA|  INGENIERIA Y AFINES|SUSTAINABLE AGRIC...|India (República ...|                          null|\"El programa está...| El objetivo del c...|\n",
            "|          4100614.0|ALIANZA DEL PACÍF...|     DIFERENTES AREAS|PLATAFORMA DE MOV...|Chile (República ...|          11/28/2013 12:00:...|El programa está ...| El objetivo del P...|\n",
            "|          5202316.0|GOBIERNO DE LA INDIA|       ADMINISTRACIÓN|POST GRADUATE DIP...|India (República ...|                          null|\"El programa está...| El objetivo del p...|\n",
            "|          2000612.0|OEA - GOBIERNO DE...| DERECHO Y CIENCIA...|\"XXXIX CURSO DE D...|Brasil (República...|          04/30/2012 12:00:...|El programa está ...| Estudio- discusió...|\n",
            "|          6210416.0|   CURTIN UNIVERSITY| MAESTRÍAS EN DIFE...|MAESTRÍAS EN DIFE...|Australia (Mancom...|                          null|El programa está ...| Ofrecer a profesi...|\n",
            "|          2227715.0|GOBIERNO DE LA INDIA| CIENCIAS NATURALE...|NATURAL RESOURCE ...|India (República ...|                          null|El Programa está ...| Brindar a los par...|\n",
            "|          6110015.0|INSTITUTO EUROPEO...| MAESTRÍAS EN DIFE...|MBA MAESTRÍAS Y E...|España (Reino de ...|          05/19/2015 12:00:...|El programa está ...| Brindar a los par...|\n",
            "|          6003512.0|   GOBIERNO DE SUIZA| POSGRADO DIFERENT...|POSGRADO EN DIFER...|Suiza (Confederac...|          10/24/2011 12:00:...|El programa está ...| Brindar a los pro...|\n",
            "|          2105611.0|GOBIERNO DE JAPON...| CIENCIAS AGROPECU...|METODOLOGÍAS DE E...|       Japón (Japón)|                          null|El programa está ...| Implementar el pr...|\n",
            "|          2222714.0|SINGAPORE COOPERA...| ADMINISTRACIÓN - ...|HUMAN RESOURCE MA...|Singapur (Repúbli...|          09/29/2014 12:00:...|El programa esta ...| El curso tiene co...|\n",
            "+-------------------+--------------------+---------------------+--------------------+--------------------+------------------------------+--------------------+---------------------+\n",
            "only showing top 20 rows\n",
            "\n"
          ]
        }
      ]
    },
    {
      "cell_type": "markdown",
      "metadata": {
        "id": "GAyH6mgGK3VA"
      },
      "source": [
        "##**A) Calidad de datos**\n",
        "\n",
        "Revise cada una de las variables disponibles y resuelva los problemas de calidad de datos que puedan afectar el desarrollo de este taller, justificando las razones de su decisión para cada caso\n"
      ]
    },
    {
      "cell_type": "markdown",
      "metadata": {
        "id": "F-njqbnTM2To"
      },
      "source": [
        "Presente aquí el código desarrollado y el resultado obtenido"
      ]
    },
    {
      "cell_type": "code",
      "source": [
        "# Cambiando los títulos para evitar espacios\n",
        "for col in df_Becas.columns:\n",
        "    df_Becas = df_Becas.withColumnRenamed(col, col.lower().replace(\" \", \"_\"))\n",
        "df_Becas = df_Becas.withColumnRenamed(\"fecha_de_recepción_-mm/dd/aaaa\", \"fecha_de_recepción\")\n",
        "\n",
        "# Cast 'codigo_convocatoria' to integer\n",
        "df_Becas = df_Becas.withColumn(\"codigo_convocatoria\", df_Becas[\"codigo_convocatoria\"].cast(IntegerType()))\n",
        "\n",
        "# Cast 'fecha_de_recepción' to timestamp\n",
        "df_Becas = df_Becas.withColumn(\"fecha_de_recepción\", to_timestamp(\"fecha_de_recepción\", \"MM/dd/yyyy hh:mm a\"))\n",
        "df_Becas.show()"
      ],
      "metadata": {
        "id": "Zxi4XYBb83dM",
        "outputId": "28d2fb93-4f05-4ebf-8df0-f53dbce209ee",
        "colab": {
          "base_uri": "https://localhost:8080/"
        }
      },
      "execution_count": 18,
      "outputs": [
        {
          "output_type": "stream",
          "name": "stdout",
          "text": [
            "+-------------------+--------------------+---------------------+--------------------+--------------------+------------------+--------------------+---------------------+\n",
            "|codigo_convocatoria| nombre_del_oferente|area_del_conocimiento| nombre_del_programa|     nombre_del_país|fecha_de_recepción|perfil_del_aplicante|objetivo_del_programa|\n",
            "+-------------------+--------------------+---------------------+--------------------+--------------------+------------------+--------------------+---------------------+\n",
            "|            2127916|OEA - TOP - ARGEN...|       ADMINISTRACIÓN|POLÍTICAS DE GOBI...|PLATAFORMA DE EDU...|              null|El programa está ...| a) Proporcionar a...|\n",
            "|            3101616|ALIANZA DEL PACÍF...|     DIFERENTES AREAS|PLATAFORMA DE MOV...|Chile (República ...|              null|El programa está ...| El objetivo del P...|\n",
            "|            2221414|GOBIERNO DE LA INDIA|  INGENIERIA Y AFINES|DATA COMMUNICATIO...|India (República ...|              null|\"El Programa \"\"Co...| Ofrecer a los par...|\n",
            "|            3001315|MINISTÈRE DE L'EN...| MAESTRÍAS Y DOCTO...|REDUCCIÓN DE COLE...|     Canadá (Canadá)|              null|El programa está ...| En la presente co...|\n",
            "|            4102316|ALIANZA DEL PACÍF...|     DIFERENTES AREAS|PLATAFORMA DE MOV...|Perú (República d...|              null|\"El programa está...| El objetivo del P...|\n",
            "|            2214713|GOBIERNO DE LA INDIA|          HUMANIDADES|PROGRESS TO PROFI...|India (República ...|              null|El Programa está ...| Brindar a los par...|\n",
            "|            3900314|    UNESCO - L´OREAL| CIENCIAS NATURALE...|INVESTIGACIÓN PAR...|   Diferentes Países|              null|El programa está ...| Identificar y rec...|\n",
            "|            5202816|UNESCO - GOBIERNO...|     DIFERENTES AREAS|PROGRAMA LA GRAN ...|China (República ...|              null|\"El programa está...| Ofrecer a profesi...|\n",
            "|            2204712|GOBIERNO DE JAPON...|  INGENIERIA Y AFINES|TECNOLOGÍA PRÁCTI...|       Japón (Japón)|              null|El programa está ...| Brindar a los par...|\n",
            "|            6200312|UNIVERSIDAD CARLO...| POSGRADO DIFERENT...|PROGRAMA DE MAEST...|España (Reino de ...|              null|El programa está ...| Brindar a profesi...|\n",
            "|            2233116|GOBIERNO DE LA INDIA|  INGENIERIA Y AFINES|SUSTAINABLE AGRIC...|India (República ...|              null|\"El programa está...| El objetivo del c...|\n",
            "|            4100614|ALIANZA DEL PACÍF...|     DIFERENTES AREAS|PLATAFORMA DE MOV...|Chile (República ...|              null|El programa está ...| El objetivo del P...|\n",
            "|            5202316|GOBIERNO DE LA INDIA|       ADMINISTRACIÓN|POST GRADUATE DIP...|India (República ...|              null|\"El programa está...| El objetivo del p...|\n",
            "|            2000612|OEA - GOBIERNO DE...| DERECHO Y CIENCIA...|\"XXXIX CURSO DE D...|Brasil (República...|              null|El programa está ...| Estudio- discusió...|\n",
            "|            6210416|   CURTIN UNIVERSITY| MAESTRÍAS EN DIFE...|MAESTRÍAS EN DIFE...|Australia (Mancom...|              null|El programa está ...| Ofrecer a profesi...|\n",
            "|            2227715|GOBIERNO DE LA INDIA| CIENCIAS NATURALE...|NATURAL RESOURCE ...|India (República ...|              null|El Programa está ...| Brindar a los par...|\n",
            "|            6110015|INSTITUTO EUROPEO...| MAESTRÍAS EN DIFE...|MBA MAESTRÍAS Y E...|España (Reino de ...|              null|El programa está ...| Brindar a los par...|\n",
            "|            6003512|   GOBIERNO DE SUIZA| POSGRADO DIFERENT...|POSGRADO EN DIFER...|Suiza (Confederac...|              null|El programa está ...| Brindar a los pro...|\n",
            "|            2105611|GOBIERNO DE JAPON...| CIENCIAS AGROPECU...|METODOLOGÍAS DE E...|       Japón (Japón)|              null|El programa está ...| Implementar el pr...|\n",
            "|            2222714|SINGAPORE COOPERA...| ADMINISTRACIÓN - ...|HUMAN RESOURCE MA...|Singapur (Repúbli...|              null|El programa esta ...| El curso tiene co...|\n",
            "+-------------------+--------------------+---------------------+--------------------+--------------------+------------------+--------------------+---------------------+\n",
            "only showing top 20 rows\n",
            "\n"
          ]
        }
      ]
    },
    {
      "cell_type": "code",
      "source": [
        "# Limpiando los datos\n",
        "def remove_quotes_from_strings(df_Becas):\n",
        "    for col in df_Becas.columns:\n",
        "        if df_Becas.schema[col].dataType == StringType():\n",
        "            df_Becas = df_Becas.withColumn(col, regexp_replace(df_Becas[col], '\"', ''))\n",
        "    return df_Becas\n",
        "\n",
        "def remove_parentheses_content(text):\n",
        "  return re.sub(r'\\([^)]*\\)', '', text)\n",
        "\n",
        "df_Becas = remove_quotes_from_strings(df_Becas)\n",
        "df_Becas = df_Becas.withColumn(\"nombre_del_país\", regexp_replace(df_Becas[\"nombre_del_país\"], r'\\([^)]*\\)', ''))\n",
        "df_Becas = df_Becas.withColumn(\"nombre_del_país\", when(lower(df_Becas[\"nombre_del_país\"]).contains(\"plataforma\"), \"Plataforma Virtual\").otherwise(df_Becas[\"nombre_del_país\"]))\n",
        "df_Becas.show()"
      ],
      "metadata": {
        "id": "FCrkZsmL-pSp",
        "outputId": "6492983e-f769-4031-c8b9-07eae9a6d183",
        "colab": {
          "base_uri": "https://localhost:8080/"
        }
      },
      "execution_count": 45,
      "outputs": [
        {
          "output_type": "stream",
          "name": "stdout",
          "text": [
            "+-------------------+--------------------+---------------------+--------------------+------------------+------------------+--------------------+---------------------+\n",
            "|codigo_convocatoria| nombre_del_oferente|area_del_conocimiento| nombre_del_programa|   nombre_del_país|fecha_de_recepción|perfil_del_aplicante|objetivo_del_programa|\n",
            "+-------------------+--------------------+---------------------+--------------------+------------------+------------------+--------------------+---------------------+\n",
            "|            2127916|OEA - TOP - ARGEN...|       ADMINISTRACIÓN|POLÍTICAS DE GOBI...|Plataforma Virtual|              null|El programa está ...| a) Proporcionar a...|\n",
            "|            3101616|ALIANZA DEL PACÍF...|     DIFERENTES AREAS|PLATAFORMA DE MOV...|            Chile |              null|El programa está ...| El objetivo del P...|\n",
            "|            2221414|GOBIERNO DE LA INDIA|  INGENIERIA Y AFINES|DATA COMMUNICATIO...|            India |              null|El Programa Comun...| Ofrecer a los par...|\n",
            "|            3001315|MINISTÈRE DE L'EN...| MAESTRÍAS Y DOCTO...|REDUCCIÓN DE COLE...|           Canadá |              null|El programa está ...| En la presente co...|\n",
            "|            4102316|ALIANZA DEL PACÍF...|     DIFERENTES AREAS|PLATAFORMA DE MOV...|             Perú |              null|El programa está ...| El objetivo del P...|\n",
            "|            2214713|GOBIERNO DE LA INDIA|          HUMANIDADES|PROGRESS TO PROFI...|            India |              null|El Programa está ...| Brindar a los par...|\n",
            "|            3900314|    UNESCO - L´OREAL| CIENCIAS NATURALE...|INVESTIGACIÓN PAR...| Diferentes Países|              null|El programa está ...| Identificar y rec...|\n",
            "|            5202816|UNESCO - GOBIERNO...|     DIFERENTES AREAS|PROGRAMA LA GRAN ...|            China |              null|El programa está ...| Ofrecer a profesi...|\n",
            "|            2204712|GOBIERNO DE JAPON...|  INGENIERIA Y AFINES|TECNOLOGÍA PRÁCTI...|            Japón |              null|El programa está ...| Brindar a los par...|\n",
            "|            6200312|UNIVERSIDAD CARLO...| POSGRADO DIFERENT...|PROGRAMA DE MAEST...|           España |              null|El programa está ...| Brindar a profesi...|\n",
            "|            2233116|GOBIERNO DE LA INDIA|  INGENIERIA Y AFINES|SUSTAINABLE AGRIC...|            India |              null|El programa está ...| El objetivo del c...|\n",
            "|            4100614|ALIANZA DEL PACÍF...|     DIFERENTES AREAS|PLATAFORMA DE MOV...|            Chile |              null|El programa está ...| El objetivo del P...|\n",
            "|            5202316|GOBIERNO DE LA INDIA|       ADMINISTRACIÓN|POST GRADUATE DIP...|            India |              null|El programa está ...| El objetivo del p...|\n",
            "|            2000612|OEA - GOBIERNO DE...| DERECHO Y CIENCIA...|XXXIX CURSO DE DE...|           Brasil |              null|El programa está ...| Estudio- discusió...|\n",
            "|            6210416|   CURTIN UNIVERSITY| MAESTRÍAS EN DIFE...|MAESTRÍAS EN DIFE...|        Australia |              null|El programa está ...| Ofrecer a profesi...|\n",
            "|            2227715|GOBIERNO DE LA INDIA| CIENCIAS NATURALE...|NATURAL RESOURCE ...|            India |              null|El Programa está ...| Brindar a los par...|\n",
            "|            6110015|INSTITUTO EUROPEO...| MAESTRÍAS EN DIFE...|MBA MAESTRÍAS Y E...|           España |              null|El programa está ...| Brindar a los par...|\n",
            "|            6003512|   GOBIERNO DE SUIZA| POSGRADO DIFERENT...|POSGRADO EN DIFER...|            Suiza |              null|El programa está ...| Brindar a los pro...|\n",
            "|            2105611|GOBIERNO DE JAPON...| CIENCIAS AGROPECU...|METODOLOGÍAS DE E...|            Japón |              null|El programa está ...| Implementar el pr...|\n",
            "|            2222714|SINGAPORE COOPERA...| ADMINISTRACIÓN - ...|HUMAN RESOURCE MA...|         Singapur |              null|El programa esta ...| El curso tiene co...|\n",
            "+-------------------+--------------------+---------------------+--------------------+------------------+------------------+--------------------+---------------------+\n",
            "only showing top 20 rows\n",
            "\n"
          ]
        }
      ]
    },
    {
      "cell_type": "code",
      "source": [
        "df_Becas.createOrReplaceTempView(\"Becas\")\n",
        "result = spark.sql(\"\"\"\n",
        "    SELECT * FROM Becas\n",
        "    WHERE LOWER(`nombre_del_país`) like '%plataforma%'\n",
        "\"\"\")\n",
        "result.show()\n"
      ],
      "metadata": {
        "id": "IEQNJUeNA3km",
        "outputId": "564db278-0200-4cca-9065-58d79375cd5c",
        "colab": {
          "base_uri": "https://localhost:8080/"
        }
      },
      "execution_count": 46,
      "outputs": [
        {
          "output_type": "stream",
          "name": "stdout",
          "text": [
            "+-------------------+--------------------+---------------------+--------------------+------------------+------------------+--------------------+---------------------+\n",
            "|codigo_convocatoria| nombre_del_oferente|area_del_conocimiento| nombre_del_programa|   nombre_del_país|fecha_de_recepción|perfil_del_aplicante|objetivo_del_programa|\n",
            "+-------------------+--------------------+---------------------+--------------------+------------------+------------------+--------------------+---------------------+\n",
            "|            2127916|OEA - TOP - ARGEN...|       ADMINISTRACIÓN|POLÍTICAS DE GOBI...|Plataforma Virtual|              null|El programa está ...| a) Proporcionar a...|\n",
            "|            2106413|    OEA - TOP - PAEC|       ADMINISTRACIÓN|EVALUACIÓN INSTIT...|Plataforma Virtual|              null|El programa está ...| Brindar a los par...|\n",
            "|            2126016|   OEA - FONDO VERDE|    CIENCIAS SOCIALES|DIPLOMADO EN EXPE...|Plataforma Virtual|              null|El programa está ...| Promover los méto...|\n",
            "|            2128716|OEA - TOP - ARGEN...|       ADMINISTRACIÓN|GESTIÓN POR PROYE...|Plataforma Virtual|              null|El programa está ...| Proporcionar a lo...|\n",
            "|            2130816|OEA - TOP - ARGEN...|       ADMINISTRACIÓN|ELABORACIÓN DE IN...|Plataforma Virtual|              null|El programa está ...| > Proporcionar a ...|\n",
            "|            5101416|OEA - ESTADOS UNIDOS| CIENCIAS DE LA ED...|PROGRAMA DE CERTI...|Plataforma Virtual|              null|El programa está ...| El Programa de Ce...|\n",
            "|            2122915| OEA - INICTEL - UNI| INGENIERIA Y ADMI...|TECNOLOGÍAS DE RE...|Plataforma Virtual|              null|El programa está ...| El objetivo princ...|\n",
            "|            2118414|          OEA- CITEL|  INGENIERIA Y AFINES|TECNOLOGIAS E ING...|Plataforma Virtual|              null|El programa está ...| Objetivo General:...|\n",
            "|            2112914|OEA - GOBIERNO DE...|    CIENCIAS SOCIALES|MIGRACIÓN Y DEREC...|Plataforma Virtual|              null|El programa está ...| > Capacitar profe...|\n",
            "|            2108813|OEA - GOBIERNO DE...|  INGENIERIA Y AFINES|CURSO DE ANÁLISIS...|Plataforma Virtual|              null|El programa está ...| > Conocer las pos...|\n",
            "|            2131116| OEA - INICTEL - UNI|       ADMINISTRACIÓN|SEGURIDAD DE LA I...|Plataforma Virtual|              null|El programa está ...| > Adquirir los co...|\n",
            "|            2116114|OEA - GOBIERNO DE...|  INGENIERIA Y AFINES|GESTIÓN DE LA VIN...|Plataforma Virtual|              null|El programa está ...| >Proporcionar a l...|\n",
            "|            2109213|OEA - GOBIERNO DE...|  INGENIERIA Y AFINES|CURSO DE ECONOMÍA...|Plataforma Virtual|              null|El programa está ...| > Dotar a los pro...|\n",
            "|            2129516|OEA - TOP - ARGEN...|       ADMINISTRACIÓN|INDICADORES ORH (...|Plataforma Virtual|              null|El programa está ...| Los objetivos del...|\n",
            "|            5100715|OEA - FLACSO - AR...|    CIENCIAS SOCIALES|JÓVENES EDUCACIÓN...|Plataforma Virtual|              null|El programa está ...| 1. Propiciar la f...|\n",
            "|            2116314|    OEA - TOP - PAEC|       ADMINISTRACIÓN|GESTIÓN DE LA POL...|Plataforma Virtual|              null|El programa está ...| A) Analizar y ata...|\n",
            "|            2117714|OEA - TOP - ARGEN...| ADMINISTRACIÓN - ...|GESTIÓN PÚBLICA A...|Plataforma Virtual|              null|El programa está ...| 1.Proporcionar a ...|\n",
            "|            2102712|    OEA - TOP - PAEC|       ADMINISTRACIÓN|DESARROLLO DE PRO...|Plataforma Virtual|              null|El programa está ...| El Enfoque del Ma...|\n",
            "|            2130016|    OEA - TOP - PAEC|       ADMINISTRACIÓN|GESTIÓN ESTRATÉGI...|Plataforma Virtual|              null|El programa está ...| Brindar a los par...|\n",
            "|            2122715|          OEA - UNED| DERECHO Y CIENCIA...|DERECHOS HUMANOS ...|Plataforma Virtual|              null|El programa está ...| El curso busca de...|\n",
            "+-------------------+--------------------+---------------------+--------------------+------------------+------------------+--------------------+---------------------+\n",
            "only showing top 20 rows\n",
            "\n"
          ]
        }
      ]
    },
    {
      "cell_type": "code",
      "source": [
        "# prompt: from df_Becas replace the values with \"plataforma\" converting this field in lowercase, with Plataforma\n",
        "\n",
        "from pyspark.sql.functions import\n",
        "\n",
        "\n",
        "df_Becas.show()"
      ],
      "metadata": {
        "id": "_NV4GWnvAwUG"
      },
      "execution_count": null,
      "outputs": []
    },
    {
      "cell_type": "markdown",
      "metadata": {
        "id": "pDX41ab4LO7g"
      },
      "source": [
        "##**B) Aumento de ofertas de becas**\n",
        "\n",
        "Identifique si la cantidad de becas ofrecidas para ciudadanos colombianos se ha incrementado con los años"
      ]
    },
    {
      "cell_type": "markdown",
      "metadata": {
        "id": "bSlgm0j-NQjn"
      },
      "source": [
        "Presente aquí el código desarrollado y el resultado obtenido"
      ]
    },
    {
      "cell_type": "markdown",
      "metadata": {
        "id": "T89Y60StLUuh"
      },
      "source": [
        "##**C) Paises que han ofrecido becas**\n",
        "\n",
        "Presente un listado con todos los países (diferentes de Colombia) de los que se tiene reporte que han ofrecido becas para estudiantes colombianos (*solamente presentar nombres de países, y estos solo deben aparecer una única vez en la lista*)"
      ]
    },
    {
      "cell_type": "markdown",
      "metadata": {
        "id": "xWQkDcDZNRVa"
      },
      "source": [
        "Presente aquí el código desarrollado y el resultado obtenido"
      ]
    },
    {
      "cell_type": "markdown",
      "metadata": {
        "id": "WlI7cjLXLdlQ"
      },
      "source": [
        "##**D) Áreas del conocimiento y Posgrados**\n",
        "\n",
        "Se desea averiguar cúal es el área de conocimiento predominante por país. Además, queremos conocer qué porcentaje de los programas ofrecidos (**de acuerdo al nombre del programa**) corresponden a estudios de posgrado."
      ]
    },
    {
      "cell_type": "markdown",
      "metadata": {
        "id": "gaYRRcaPlN9w"
      },
      "source": [
        "Presente aquí el código desarrollado y el resultado obtenido"
      ]
    },
    {
      "cell_type": "markdown",
      "metadata": {
        "id": "HGwierHTLFt3"
      },
      "source": [
        "##**E) ¿Qué podemos concluir a partir del Perfil del Aspirante y el Objetivo del Programa?**\n",
        "\n",
        "Se dispone de dos campos de descripción, que no emplean un formato claro que permita analizar los perfiles de los aspirantes con respecto al objetivo del programa.\n",
        "\n",
        "Plantee una forma de analizar esta información para conocer las relaciones entre los perfiles y lo objetivos."
      ]
    },
    {
      "cell_type": "markdown",
      "metadata": {
        "id": "xHtI3jGcNTNn"
      },
      "source": [
        "Presente aquí el código desarrollado y el resultado obtenido"
      ]
    },
    {
      "cell_type": "markdown",
      "metadata": {
        "id": "4JYIy6EaEISf"
      },
      "source": [
        "##**Análisis de los resultados**\n",
        "\n",
        "Teniendo en cuenta los resultados obtenidos en los puntos anteriores, presente sus impresiones sobre las becas académicas disponibles para los estudiantes colombianos.\n"
      ]
    },
    {
      "cell_type": "markdown",
      "metadata": {
        "id": "FIWNCDYECHFb"
      },
      "source": [
        "#**Notas:**\n",
        "\n",
        "* Analice los resultados de cada punto y presente sus conclusiones\n",
        "* Utilice al menos una vez cada uno de los siguientes métodos\n",
        "\n",
        "  *   agg\n",
        "  *   withColumn\n",
        "  *   groupBy\n",
        "  *   sql\n",
        "  *   registerFunction"
      ]
    }
  ],
  "metadata": {
    "colab": {
      "provenance": [],
      "include_colab_link": true
    },
    "kernelspec": {
      "display_name": "Python 3",
      "name": "python3"
    }
  },
  "nbformat": 4,
  "nbformat_minor": 0
}