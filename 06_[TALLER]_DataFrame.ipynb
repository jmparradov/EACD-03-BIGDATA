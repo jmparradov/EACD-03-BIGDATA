{
  "cells": [
    {
      "cell_type": "markdown",
      "metadata": {
        "id": "view-in-github",
        "colab_type": "text"
      },
      "source": [
        "<a href=\"https://colab.research.google.com/github/jmparradov/EACD-03-BIGDATA/blob/master/06_%5BTALLER%5D_DataFrame.ipynb\" target=\"_parent\"><img src=\"https://colab.research.google.com/assets/colab-badge.svg\" alt=\"Open In Colab\"/></a>"
      ]
    },
    {
      "cell_type": "code",
      "execution_count": 1,
      "metadata": {
        "id": "Z7rbDx_-JApm"
      },
      "outputs": [],
      "source": [
        "!wget --no-cache -O init.py -q https://raw.githubusercontent.com/UDEA-Esp-Analitica-y-Ciencia-de-Datos/EACD-03-BIGDATA/master/init.py\n",
        "import init; init.init(force_download=False);\n",
        "from IPython.display import Image"
      ]
    },
    {
      "cell_type": "code",
      "execution_count": 2,
      "metadata": {
        "id": "hDzn_xcpJRWR",
        "outputId": "32bf001c-0744-465c-ae1e-239532733943",
        "colab": {
          "base_uri": "https://localhost:8080/",
          "height": 251
        }
      },
      "outputs": [
        {
          "output_type": "execute_result",
          "data": {
            "image/png": "[encoded data removed]",
            "text/plain": [
              "<IPython.core.display.Image object>"
            ]
          },
          "metadata": {},
          "execution_count": 2
        }
      ],
      "source": [
        "Image(\"local/imgs/udea-datascience.png\")"
      ]
    },
    {
      "cell_type": "code",
      "source": [
        "#Instalación\n",
        "!apt-get install openjdk-11-jdk-headless -qq > /dev/null\n",
        "!wget -q http://archive.apache.org/dist/spark/spark-3.0.1/spark-3.0.1-bin-hadoop3.2.tgz\n",
        "!tar xf spark-3.0.1-bin-hadoop3.2.tgz\n",
        "!pip install -q findspark\n",
        "\n",
        "#Variables de Entorno\n",
        "import os\n",
        "os.environ[\"JAVA_HOME\"] = \"/usr/lib/jvm/java-11-openjdk-amd64\"\n",
        "os.environ[\"SPARK_HOME\"] = \"/content/spark-3.0.1-bin-hadoop3.2\"\n",
        "\n",
        "#SparkContext\n",
        "import findspark\n",
        "findspark.init()\n",
        "from pyspark.sql import SparkSession\n",
        "from pyspark import SparkContext\n",
        "spark = SparkSession.builder.master(\"local[*]\").getOrCreate()\n",
        "sc = SparkContext.getOrCreate()"
      ],
      "metadata": {
        "id": "duqOaHoJzxCP"
      },
      "execution_count": 3,
      "outputs": []
    },
    {
      "cell_type": "code",
      "source": [
        "#SparkContext\n",
        "import re\n",
        "import unicodedata\n",
        "\n",
        "from pyspark.sql import SQLContext\n",
        "\n",
        "from pyspark.sql.types import IntegerType\n",
        "from pyspark.sql.functions import to_timestamp, regexp_replace, lower, when\n",
        "from pyspark.sql.types import StringType\n",
        "\n",
        "from pyspark.sql import SQLContext\n",
        "sqlCtx = SQLContext(sc)\n"
      ],
      "metadata": {
        "id": "10v5Lsr_9xTn"
      },
      "execution_count": 8,
      "outputs": []
    },
    {
      "cell_type": "markdown",
      "metadata": {
        "id": "myHD-jFLKEal"
      },
      "source": [
        "# **TALLER 2: DataFrame**\n",
        "## Desarrollado por: Mg. Efraín Alberto Oviedo; Ing. Kevin Martínez Gallego\n",
        "## Universidad de Antioquia"
      ]
    },
    {
      "cell_type": "markdown",
      "metadata": {
        "id": "4GK6iJ1CKS8o"
      },
      "source": [
        "Por favor, ingrese la información de cada integrante del grupo de trabajo\n",
        "\n",
        "**Nombre Completo:** Juan Mauricio Parrado Villa\n",
        "\n",
        "**Cédula:** 1017206626\n",
        "\n",
        "**Correo Institucional:** mauricio.parrado@udea.edu.co"
      ]
    },
    {
      "cell_type": "markdown",
      "metadata": {
        "id": "UlYY1g0lKhz_"
      },
      "source": [
        "#**Análisis de becas académicas para estudiantes Colombianos**\n",
        "\n",
        "El ICETEX ha dispuesto un histórico de becas ofrecidas para estudios de nivel de pregrado y posgrado, presenciales o virtuales, que han sido propuestas para fortalecer la formación académica de ciudadanos colombianos en el exterior.\n",
        "\n",
        "(Disponible en https://www.datos.gov.co/Educaci-n/Icetex-Hist-rico-de-Becas/eb6r-dfgr)\n",
        "\n",
        "Para cada caso se reportan los siguientes datos:\n",
        "\n",
        "* Código Convocatoria\n",
        "* Nombre del Oferente: Nombre del gobierno que ofrece la beca.\n",
        "* Área del Conocimiento\n",
        "* Nombre del Programa\n",
        "* Nombre del País\n",
        "* Fecha de Recepción -mm/dd/aaaa\n",
        "* Perfil del Aplicante\n",
        "* Objetivo del Programa: Breve descripción del programa académico.\n",
        "\n",
        "Se solicita de su ayuda para responder a los siguientes interrogantes:"
      ]
    },
    {
      "cell_type": "code",
      "source": [
        "df_Becas = sqlCtx.read.option(\"header\",True).csv(\"local/data/icetex_becas.csv\")\n",
        "df_Becas.show()\n",
        "\n"
      ],
      "metadata": {
        "id": "ELvdXDli1LJL",
        "outputId": "628d5de1-b8a1-41b2-84b8-d81ecc1cf761",
        "colab": {
          "base_uri": "https://localhost:8080/"
        }
      },
      "execution_count": 31,
      "outputs": [
        {
          "output_type": "stream",
          "name": "stdout",
          "text": [
            "+-------------------+--------------------+---------------------+--------------------+--------------------+------------------------------+--------------------+---------------------+\n",
            "|Codigo Convocatoria| Nombre del Oferente|Area del Conocimiento| Nombre del programa|     Nombre del País|Fecha de Recepción -mm/dd/aaaa|Perfil del Aplicante|Objetivo del Programa|\n",
            "+-------------------+--------------------+---------------------+--------------------+--------------------+------------------------------+--------------------+---------------------+\n",
            "|          2127916.0|OEA - TOP - ARGEN...|       ADMINISTRACIÓN|POLÍTICAS DE GOBI...|PLATAFORMA DE EDU...|          05/27/2016 12:00:...|El programa está ...| a) Proporcionar a...|\n",
            "|          3101616.0|ALIANZA DEL PACÍF...|     DIFERENTES AREAS|PLATAFORMA DE MOV...|Chile (República ...|                          null|El programa está ...| El objetivo del P...|\n",
            "|          2221414.0|GOBIERNO DE LA INDIA|  INGENIERIA Y AFINES|DATA COMMUNICATIO...|India (República ...|          07/30/2014 12:00:...|\"El Programa \"\"Co...| Ofrecer a los par...|\n",
            "|          3001315.0|MINISTÈRE DE L'EN...| MAESTRÍAS Y DOCTO...|REDUCCIÓN DE COLE...|     Canadá (Canadá)|                          null|El programa está ...| En la presente co...|\n",
            "|          4102316.0|ALIANZA DEL PACÍF...|     DIFERENTES AREAS|PLATAFORMA DE MOV...|Perú (República d...|                          null|\"El programa está...| El objetivo del P...|\n",
            "|          2214713.0|GOBIERNO DE LA INDIA|          HUMANIDADES|PROGRESS TO PROFI...|India (República ...|          07/26/2013 12:00:...|El Programa está ...| Brindar a los par...|\n",
            "|          3900314.0|    UNESCO - L´OREAL| CIENCIAS NATURALE...|INVESTIGACIÓN PAR...|   Diferentes Países|                          null|El programa está ...| Identificar y rec...|\n",
            "|          5202816.0|UNESCO - GOBIERNO...|     DIFERENTES AREAS|PROGRAMA LA GRAN ...|China (República ...|          04/29/2016 12:00:...|\"El programa está...| Ofrecer a profesi...|\n",
            "|          2204712.0|GOBIERNO DE JAPON...|  INGENIERIA Y AFINES|TECNOLOGÍA PRÁCTI...|       Japón (Japón)|                          null|El programa está ...| Brindar a los par...|\n",
            "|          6200312.0|UNIVERSIDAD CARLO...| POSGRADO DIFERENT...|PROGRAMA DE MAEST...|España (Reino de ...|          06/27/2012 12:00:...|El programa está ...| Brindar a profesi...|\n",
            "|          2233116.0|GOBIERNO DE LA INDIA|  INGENIERIA Y AFINES|SUSTAINABLE AGRIC...|India (República ...|                          null|\"El programa está...| El objetivo del c...|\n",
            "|          4100614.0|ALIANZA DEL PACÍF...|     DIFERENTES AREAS|PLATAFORMA DE MOV...|Chile (República ...|          11/28/2013 12:00:...|El programa está ...| El objetivo del P...|\n",
            "|          5202316.0|GOBIERNO DE LA INDIA|       ADMINISTRACIÓN|POST GRADUATE DIP...|India (República ...|                          null|\"El programa está...| El objetivo del p...|\n",
            "|          2000612.0|OEA - GOBIERNO DE...| DERECHO Y CIENCIA...|\"XXXIX CURSO DE D...|Brasil (República...|          04/30/2012 12:00:...|El programa está ...| Estudio- discusió...|\n",
            "|          6210416.0|   CURTIN UNIVERSITY| MAESTRÍAS EN DIFE...|MAESTRÍAS EN DIFE...|Australia (Mancom...|                          null|El programa está ...| Ofrecer a profesi...|\n",
            "|          2227715.0|GOBIERNO DE LA INDIA| CIENCIAS NATURALE...|NATURAL RESOURCE ...|India (República ...|                          null|El Programa está ...| Brindar a los par...|\n",
            "|          6110015.0|INSTITUTO EUROPEO...| MAESTRÍAS EN DIFE...|MBA MAESTRÍAS Y E...|España (Reino de ...|          05/19/2015 12:00:...|El programa está ...| Brindar a los par...|\n",
            "|          6003512.0|   GOBIERNO DE SUIZA| POSGRADO DIFERENT...|POSGRADO EN DIFER...|Suiza (Confederac...|          10/24/2011 12:00:...|El programa está ...| Brindar a los pro...|\n",
            "|          2105611.0|GOBIERNO DE JAPON...| CIENCIAS AGROPECU...|METODOLOGÍAS DE E...|       Japón (Japón)|                          null|El programa está ...| Implementar el pr...|\n",
            "|          2222714.0|SINGAPORE COOPERA...| ADMINISTRACIÓN - ...|HUMAN RESOURCE MA...|Singapur (Repúbli...|          09/29/2014 12:00:...|El programa esta ...| El curso tiene co...|\n",
            "+-------------------+--------------------+---------------------+--------------------+--------------------+------------------------------+--------------------+---------------------+\n",
            "only showing top 20 rows\n",
            "\n"
          ]
        }
      ]
    },
    {
      "cell_type": "markdown",
      "metadata": {
        "id": "GAyH6mgGK3VA"
      },
      "source": [
        "##**A) Calidad de datos**\n",
        "\n",
        "Revise cada una de las variables disponibles y resuelva los problemas de calidad de datos que puedan afectar el desarrollo de este taller, justificando las razones de su decisión para cada caso\n"
      ]
    },
    {
      "cell_type": "markdown",
      "metadata": {
        "id": "F-njqbnTM2To"
      },
      "source": [
        "Presente aquí el código desarrollado y el resultado obtenido"
      ]
    },
    {
      "cell_type": "code",
      "source": [
        "def remove_accents(input_str):\n",
        "    nfkd_form = unicodedata.normalize('NFKD', input_str)\n",
        "    return u\"\".join([c for c in nfkd_form if not unicodedata.combining(c)])\n",
        "\n",
        "\n",
        "for col in df_Becas.columns:\n",
        "    # Apply the accent removal function to each header\n",
        "    df_Becas = df_Becas.withColumnRenamed(col, remove_accents(col).lower().replace(\" \", \"_\"))\n",
        "\n",
        "df_Becas = df_Becas.withColumnRenamed(\"fecha_de_recepcion_-mm/dd/aaaa\", \"fecha_de_recepcion\")\n",
        "\n",
        "# Cast 'codigo_convocatoria' to integer\n",
        "df_Becas = df_Becas.withColumn(\"codigo_convocatoria\", df_Becas[\"codigo_convocatoria\"].cast(IntegerType()))\n",
        "\n",
        "# Cast 'fecha_de_recepción' to timestamp\n",
        "df_Becas = df_Becas.withColumn(\"fecha_de_recepcion\", to_timestamp(\"fecha_de_recepcion\", \"MM/dd/yyyy hh:mm:ss a\"))\n",
        "df_Becas.show(100)"
      ],
      "metadata": {
        "id": "Zxi4XYBb83dM",
        "outputId": "9016af98-aa7f-4ac2-9056-055f70ff7cb5",
        "colab": {
          "base_uri": "https://localhost:8080/"
        }
      },
      "execution_count": 34,
      "outputs": [
        {
          "output_type": "stream",
          "name": "stdout",
          "text": [
            "+-------------------+--------------------+---------------------+--------------------+--------------------+-------------------+--------------------+---------------------+-------------------+\n",
            "|codigo_convocatoria| nombre_del_oferente|area_del_conocimiento| nombre_del_programa|     nombre_del_pais| fecha_de_recepcion|perfil_del_aplicante|objetivo_del_programa|fecha_de_recepcion2|\n",
            "+-------------------+--------------------+---------------------+--------------------+--------------------+-------------------+--------------------+---------------------+-------------------+\n",
            "|            2127916|OEA - TOP - ARGEN...|       ADMINISTRACIÓN|POLÍTICAS DE GOBI...|PLATAFORMA DE EDU...|2016-05-27 00:00:00|El programa está ...| a) Proporcionar a...|2016-05-27 00:00:00|\n",
            "|            3101616|ALIANZA DEL PACÍF...|     DIFERENTES AREAS|PLATAFORMA DE MOV...|Chile (República ...|               null|El programa está ...| El objetivo del P...|               null|\n",
            "|            2221414|GOBIERNO DE LA INDIA|  INGENIERIA Y AFINES|DATA COMMUNICATIO...|India (República ...|2014-07-30 00:00:00|\"El Programa \"\"Co...| Ofrecer a los par...|2014-07-30 00:00:00|\n",
            "|            3001315|MINISTÈRE DE L'EN...| MAESTRÍAS Y DOCTO...|REDUCCIÓN DE COLE...|     Canadá (Canadá)|               null|El programa está ...| En la presente co...|               null|\n",
            "|            4102316|ALIANZA DEL PACÍF...|     DIFERENTES AREAS|PLATAFORMA DE MOV...|Perú (República d...|               null|\"El programa está...| El objetivo del P...|               null|\n",
            "|            2214713|GOBIERNO DE LA INDIA|          HUMANIDADES|PROGRESS TO PROFI...|India (República ...|2013-07-26 00:00:00|El Programa está ...| Brindar a los par...|2013-07-26 00:00:00|\n",
            "|            3900314|    UNESCO - L´OREAL| CIENCIAS NATURALE...|INVESTIGACIÓN PAR...|   Diferentes Países|               null|El programa está ...| Identificar y rec...|               null|\n",
            "|            5202816|UNESCO - GOBIERNO...|     DIFERENTES AREAS|PROGRAMA LA GRAN ...|China (República ...|2016-04-29 00:00:00|\"El programa está...| Ofrecer a profesi...|2016-04-29 00:00:00|\n",
            "|            2204712|GOBIERNO DE JAPON...|  INGENIERIA Y AFINES|TECNOLOGÍA PRÁCTI...|       Japón (Japón)|               null|El programa está ...| Brindar a los par...|               null|\n",
            "|            6200312|UNIVERSIDAD CARLO...| POSGRADO DIFERENT...|PROGRAMA DE MAEST...|España (Reino de ...|2012-06-27 00:00:00|El programa está ...| Brindar a profesi...|2012-06-27 00:00:00|\n",
            "|            2233116|GOBIERNO DE LA INDIA|  INGENIERIA Y AFINES|SUSTAINABLE AGRIC...|India (República ...|               null|\"El programa está...| El objetivo del c...|               null|\n",
            "|            4100614|ALIANZA DEL PACÍF...|     DIFERENTES AREAS|PLATAFORMA DE MOV...|Chile (República ...|2013-11-28 00:00:00|El programa está ...| El objetivo del P...|2013-11-28 00:00:00|\n",
            "|            5202316|GOBIERNO DE LA INDIA|       ADMINISTRACIÓN|POST GRADUATE DIP...|India (República ...|               null|\"El programa está...| El objetivo del p...|               null|\n",
            "|            2000612|OEA - GOBIERNO DE...| DERECHO Y CIENCIA...|\"XXXIX CURSO DE D...|Brasil (República...|2012-04-30 00:00:00|El programa está ...| Estudio- discusió...|2012-04-30 00:00:00|\n",
            "|            6210416|   CURTIN UNIVERSITY| MAESTRÍAS EN DIFE...|MAESTRÍAS EN DIFE...|Australia (Mancom...|               null|El programa está ...| Ofrecer a profesi...|               null|\n",
            "|            2227715|GOBIERNO DE LA INDIA| CIENCIAS NATURALE...|NATURAL RESOURCE ...|India (República ...|               null|El Programa está ...| Brindar a los par...|               null|\n",
            "|            6110015|INSTITUTO EUROPEO...| MAESTRÍAS EN DIFE...|MBA MAESTRÍAS Y E...|España (Reino de ...|2015-05-19 00:00:00|El programa está ...| Brindar a los par...|2015-05-19 00:00:00|\n",
            "|            6003512|   GOBIERNO DE SUIZA| POSGRADO DIFERENT...|POSGRADO EN DIFER...|Suiza (Confederac...|2011-10-24 00:00:00|El programa está ...| Brindar a los pro...|2011-10-24 00:00:00|\n",
            "|            2105611|GOBIERNO DE JAPON...| CIENCIAS AGROPECU...|METODOLOGÍAS DE E...|       Japón (Japón)|               null|El programa está ...| Implementar el pr...|               null|\n",
            "|            2222714|SINGAPORE COOPERA...| ADMINISTRACIÓN - ...|HUMAN RESOURCE MA...|Singapur (Repúbli...|2014-09-29 00:00:00|El programa esta ...| El curso tiene co...|2014-09-29 00:00:00|\n",
            "|            2109611|OEA - ECUADOR - C...| CIENCIAS NATURALE...|MANEJO DE INFORMA...|Ecuador (Repúblic...|               null|El programa está ...| > Analizar y disc...|               null|\n",
            "|            2106413|    OEA - TOP - PAEC|       ADMINISTRACIÓN|EVALUACIÓN INSTIT...|PLATAFORMA DE EDU...|2013-05-15 00:00:00|El programa está ...| Brindar a los par...|2013-05-15 00:00:00|\n",
            "|            2209713|  GOBIERNO DE ISRAEL|  INGENIERIA Y AFINES|GESTIÓN AGRO-GREE...|Israel (Estado de...|2013-02-19 00:00:00|El programa está ...| \"El objetivo de e...|2013-02-19 00:00:00|\n",
            "|            6207615| ATLANTIS UNIVERSITY| MAESTRÍAS EN DIFE...|MASTER OF BUSINES...|Estados Unidos (E...|               null|El programa está ...| El MBA de Atlanti...|               null|\n",
            "|            6112216|UNIVERSIDAD INTER...|  INGENIERIA Y AFINES|PROGRAMAS DE MAES...|España (Reino de ...|               null|El programa está ...| Llevar a cabo est...|               null|\n",
            "|            5201014|GOBIERNO DEL REIN...| CIENCIAS DE LA ED...|INTERCAMBIO DE AS...|Reino Unido (Rein...|               null|El programa está ...| Objetivo General:...|               null|\n",
            "|            2126016|   OEA - FONDO VERDE|    CIENCIAS SOCIALES|DIPLOMADO EN EXPE...|PLATAFORMA DE EDU...|               null|El programa está ...| Promover los méto...|               null|\n",
            "|            6105714|UNIVERSIDAD A DIS...| MAESTRÍAS EN DIFE...|ESTUDIOS DE MAEST...|España (Reino de ...|               null|El Programa está ...| Dar la oportunida...|               null|\n",
            "|            2205412|GOBIERNO DE LA INDIA|  INGENIERIA Y AFINES|ADVANCED COURSE I...|India (República ...|               null|\"El Programa \"\"Cu...| Ofrecer a los par...|               null|\n",
            "|            3500215|GOBIERNO DE LA FE...| DOCTORADO EN DIFE...|ESTUDIOS DE DOCTO...|Rusia (Federación...|               null|El programa está ...| Ofrecer la oportu...|               null|\n",
            "|            6700113|UNIVERSIDAD ESTAD...| MAESTRÍAS Y DOCTO...|CUPOS DE MATRÍCUL...|Brasil (República...|               null|El programa está ...| Mediante el Conve...|               null|\n",
            "|            2100811|   OEA - FONDO VERDE| CIENCIAS NATURALE...|DIPLOMADO EN CAMB...|Perú (República d...|2011-01-17 00:00:00|El programa está ...| Estudiar los fund...|2011-01-17 00:00:00|\n",
            "|            6208815|REPÚBLICA DE CORE...|    CIENCIAS SOCIALES|MASTER´S DEGREE P...|Corea del Sur (Re...|2015-03-27 00:00:00|El programa está ...| El programa tiene...|2015-03-27 00:00:00|\n",
            "|            2201811|OEA- GOBIERNO DE ...|  INGENIERIA Y AFINES|MANEJO DEL ESPECT...|Estados Unidos (E...|2011-02-28 00:00:00|El programa está ...| >Entender los pri...|2011-02-28 00:00:00|\n",
            "|            2128716|OEA - TOP - ARGEN...|       ADMINISTRACIÓN|GESTIÓN POR PROYE...|PLATAFORMA DE EDU...|               null|El programa está ...| Proporcionar a lo...|               null|\n",
            "|            6200212|GOBIERNO DE INDON...|     DIFERENTES AREAS|MAESTRIA EN DIFER...|Indonesia (Repúbl...|               null|El programa está ...| Con el fin de est...|               null|\n",
            "|            6801316|GOBIERNO DE INDON...| MAESTRÍAS EN DIFE...|ESTUDIOS DE MAEST...|Indonesia (Repúbl...|2016-04-18 00:00:00|El programa está ...| Ofrecer a profesi...|2016-04-18 00:00:00|\n",
            "|            6000613|OFICINA COMERCIAL...|     DIFERENTES AREAS|PROGRAMAS DE MAES...|Corea del Sur (Re...|               null|El programa está ...| Ofrecer a profesi...|               null|\n",
            "|            2008711|OEA - GOBIERNO DE...|  INGENIERIA Y AFINES|NUEVAS TECNOLOGÍA...|Estados Unidos (E...|2011-05-25 00:00:00|El Programa está ...| > Adquirir las ca...|2011-05-25 00:00:00|\n",
            "|            4200514|GOBIERNO DE JAPÓN...|     DIFERENTES AREAS|ESTUDIOS DE PREGR...|       Japón (Japón)|2013-06-24 00:00:00|El programa está ...| Ofrecer a estudia...|2013-06-24 00:00:00|\n",
            "|            5200412|  GOBIERNO DE BELICE|          HUMANIDADES|PERFECCIONAMIENTO...|     Belice (Belice)|2012-07-13 00:00:00|El programa está ...| Brindar la oportu...|2012-07-13 00:00:00|\n",
            "|            2129316|         OEA - CIESI|    CIENCIAS SOCIALES|EXPERTO EN AGRICU...|Perú (República d...|2016-06-17 00:00:00|El programa está ...| Capacitar profesi...|2016-06-17 00:00:00|\n",
            "|            6113916|UNIVERSIDAD INTER...| MAESTRÍAS EN DIFE...|ESTUDIOS DE MAEST...|España (Reino de ...|2016-05-25 00:00:00|El programa está ...| Contribuir con la...|2016-05-25 00:00:00|\n",
            "|            2200912|GOBIERNO DE LA INDIA|  INGENIERIA Y AFINES|DIPLOMA IN ADVANC...|India (República ...|               null|\"El Programa \"\"Di...| Ofrecer a los par...|               null|\n",
            "|            3200414|  FULBRIGHT COLOMBIA|     DIFERENTES AREAS|BECA ESTUDIANTE D...|Estados Unidos (E...|               null|El programa está ...| Con el fin de apo...|               null|\n",
            "|            3200514|              UNESCO|  INGENIERIA Y AFINES|PROGRAMAS DE INVE...|Polonia (Repúblic...|               null|\"El programa está...| Dar la oportunida...|               null|\n",
            "|            3900414|UNESCO-L´OREAL-IC...| CIENCIAS NATURALE...|PROGRAMA NACIONAL...|Colombia (Repúbli...|               null|El programa Nacio...| Identificar y apo...|               null|\n",
            "|            2130816|OEA - TOP - ARGEN...|       ADMINISTRACIÓN|ELABORACIÓN DE IN...|PLATAFORMA DE EDU...|               null|El programa está ...| > Proporcionar a ...|               null|\n",
            "|            3200112|GOBIERNO DE AUSTR...| DOCTORADO EN DIFE...|PROGRAMAS DE DOCT...|Australia (Mancom...|               null|El programa está ...| Brindar a un prof...|               null|\n",
            "|            6106512|ISEAD Business sc...| ADMINISTRACIÓN - ...|PROGRAMAS DE MAES...|España (Reino de ...|               null|El Programa está ...| Mediante el Conve...|               null|\n",
            "|            6103913|CENTRO DE INVESTI...|             ECONOMIA|MAESTRÍA EN ECONOMÍA|México (Estados U...|               null|El programa está ...| Brindar la oportu...|               null|\n",
            "|            2000112|  GOBIERNO DE EGIPTO| CIENCIAS AGROPECU...|PRODUCCIÓN Y SANI...|Egipto (República...|               null|El programa está ...| Proporcionar a lo...|               null|\n",
            "|            2131316|  GOBIERNO DE ISRAEL|    CIENCIAS SOCIALES|LIDERAZGO JUVENIL...|Israel (Estado de...|2016-08-16 00:00:00|El programa está ...| Otorgar a los par...|2016-08-16 00:00:00|\n",
            "|            6211716| GOBIERNO DE HUNGRÍA| MAESTRÍAS Y DOCTO...|PROGRAMA DE MAEST...|Hungría (Repúblic...|2016-02-26 00:00:00|El programa está ...| Brindar a profesi...|2016-02-26 00:00:00|\n",
            "|            2001311|OEA - GOBIERNO DE...| DERECHO Y CIENCIA...|XXXVIII CURSO DE ...|Brasil (República...|               null|El programa está ...| Estudio- discusió...|               null|\n",
            "|            2205712|GOBIERNO DE LA INDIA|       ADMINISTRACIÓN|WOMEN AND ENTERPR...|India (República ...|2012-10-16 00:00:00|\"El programa \"\"La...| Ofrecer a las muj...|2012-10-16 00:00:00|\n",
            "|            2212013|GOBIERNO DE LA INDIA|       ADMINISTRACIÓN|INTERNATIONAL PRO...|India (República ...|               null|El programa está ...| Brindar a los par...|               null|\n",
            "|            2121815|  GOBIERNO DE ISRAEL|  INGENIERIA Y AFINES|GESTIÓN INTEGRAL ...|Israel (Estado de...|               null|El programa está ...| El presente progr...|               null|\n",
            "|            2105613|   OEA - FONDO VERDE|  INGENIERIA Y AFINES|DIPLOMADO EN GEST...|Perú (República d...|2013-03-22 00:00:00|El programa está ...| Generales: Formar...|2013-03-22 00:00:00|\n",
            "|            6113416| GOBIERNO DE ECUADOR| MAESTRÍAS EN DIFE...|CONVOCATORIA DE B...|Ecuador (Repúblic...|               null|\"El programa está...| Las becas de reci...|               null|\n",
            "|            2231316|GOBIERNO DE LA INDIA|     DIFERENTES AREAS|AUDIT OF E-GOVERN...|India (República ...|2015-09-28 00:00:00|El Programa está ...| El objetivo del c...|2015-09-28 00:00:00|\n",
            "|            2223715|GOBIERNO DE LA INDIA|       ADMINISTRACIÓN|AUDIT OF SOCIAL S...|India (República ...|               null|El programa ´´Aud...| Brindar a los par...|               null|\n",
            "|            5101416|OEA - ESTADOS UNIDOS| CIENCIAS DE LA ED...|PROGRAMA DE CERTI...|PLATAFORMA DE EDU...|2016-05-16 00:00:00|El programa está ...| El Programa de Ce...|2016-05-16 00:00:00|\n",
            "|            2122915| OEA - INICTEL - UNI| INGENIERIA Y ADMI...|TECNOLOGÍAS DE RE...|PLATAFORMA DE EDU...|               null|El programa está ...| El objetivo princ...|               null|\n",
            "|            2212011|OEA - GOBIERNO DE...| CIENCIAS DE LA ED...|CALIDAD DE LA EDU...|Estados Unidos (E...|2011-06-28 00:00:00|El programa está ...| El curso presenta...|2011-06-28 00:00:00|\n",
            "|            3000513|GOBIERNO DE JAPÓN...| CIENCIAS DE LA ED...|PROGRAMA DE INVES...|       Japón (Japón)|2013-02-25 00:00:00|El programa está ...| A través de este ...|2013-02-25 00:00:00|\n",
            "|            6211316|UNIVERSIDAD DE UL...|     DIFERENTES AREAS|MAESTRÍAS EN DIFE...|Reino Unido (Rein...|               null|El programa está ...| Brindar la oportu...|               null|\n",
            "|            3104512|PONTIFICIA  UNIVE...| DOCTORADO EN DIFE...|BECAS DE DOCTORAD...|Chile (República ...|               null|El programa está ...| Mediante el Conve...|               null|\n",
            "|            2219614|GOBIERNO DE LA INDIA|          HUMANIDADES|CERTIFICATE OF PR...|India (República ...|               null|\"El Programa \"\"Cu...| Brindar a los par...|               null|\n",
            "|            2204812|OEA - GOBIERNO DE...| ADMINISTRACIÓN - ...|COMERCIO INTERNAC...|Italia (República...|               null|El programa está ...| > Adquirir conoci...|               null|\n",
            "|            6202813|REPÚBLICA DE CORE...| CIENCIAS NATURALE...|MASTER'S DEGREE P...|Corea del Sur (Re...|2013-03-22 00:00:00|El programa está ...| >Capacitar a los ...|2013-03-22 00:00:00|\n",
            "|            2207113|GOBIERNO DE TAILA...|  INGENIERIA Y AFINES|LA SEGURIDAD ALIM...|Tailandia (Reino ...|               null|El programa está ...| > Proporcionar co...|               null|\n",
            "|            3202112|GOBIERNO DE AUSTR...| DOCTORADO EN DIFE...|PROGRAMAS DE DOCT...|Australia (Mancom...|               null|El programa está ...| Brindar a un prof...|               null|\n",
            "|            2224715|GOBIERNO DE LA INDIA|  INGENIERIA Y AFINES|DATA COMMUNICATIO...|India (República ...|2014-12-15 00:00:00|\"El Programa \"\" D...| Brindar a los par...|2014-12-15 00:00:00|\n",
            "|            6108414|UNIVERSIDAD INTER...|       ADMINISTRACIÓN|PROGRAMAS DE MAES...|España (Reino de ...|2014-10-14 00:00:00|El programa está ...| Llevar a cabo los...|2014-10-14 00:00:00|\n",
            "|            2207913|GOBIERNO DE LA INDIA|  INGENIERIA Y AFINES|BROADBAND TECHNOL...|India (República ...|               null|\"El Programa \"\"Te...| Capacitar a ingen...|               null|\n",
            "|            2126316|   OEA - FONDO VERDE|  INGENIERIA Y AFINES|DIPLOMADO EN GEST...|Perú (República d...|               null|El programa está ...| Los objetivos son...|               null|\n",
            "|            2210713|UNESCO - FEDERACI...|  INGENIERIA Y AFINES|DIFERENTES CURSOS...|Rusia (Federación...|               null|El programa está ...| Mejorar la capaci...|               null|\n",
            "|            2237816|  GOBIERNO DE ISRAEL| CIENCIAS NATURALE...|AGRICULTURE AND E...|Israel (Estado de...|2016-09-16 00:00:00|El programa está ...| > Iniciar y reali...|2016-09-16 00:00:00|\n",
            "|            2212711|GOBIERNO DE TAILA...| CIENCIAS AGROPECU...|CULTIVOS Y MODELO...|Tailandia (Reino ...|2011-06-30 00:00:00|El programa está ...| El objetivo gener...|2011-06-30 00:00:00|\n",
            "|            2231816|GOBIERNO DE LA INDIA|  INGENIERIA Y AFINES|MOBILE TECHNOLOGI...|India (República ...|2015-09-28 00:00:00|El Programa está ...| El objetivo del c...|2015-09-28 00:00:00|\n",
            "|            2112211|OEA- UNIV. NACION...|  INGENIERIA Y AFINES|SEGURIDAD EN REDE...|Paraguay (Repúbli...|               null|El programa está ...| General: > Propor...|               null|\n",
            "|            2229215|GOBIERNO DE LA INDIA| ADMINISTRACIÓN - ...|CERTIFICATE PROGR...|India (República ...|               null|El Programa está ...| Entender la relev...|               null|\n",
            "|            3200715|GOBIERNO DE LA INDIA|       ADMINISTRACIÓN|EXECUTIVE POST GR...|India (República ...|               null|El programa está ...| Brindar a los par...|               null|\n",
            "|            2132616|   OEA - FONDO VERDE|  INGENIERIA Y AFINES|CURSO EN ARQUITEC...|Perú (República d...|               null|El programa está ...| > El curso propor...|               null|\n",
            "|            6109215|UNIVERSIDAD A DIS...| MAESTRÍAS EN DIFE...|ESTUDIOS DE MAEST...|España (Reino de ...|               null|El Programa está ...| Brindar la oportu...|               null|\n",
            "|            2215315|GOBIERNO DE LA INDIA| ADMINISTRACIÓN - ...|PUBLIC EXPENDITUR...|India (República ...|               null|El Programa Geren...| Ofrecer a los par...|               null|\n",
            "|            6210515|UNIVERSIDAD DE UL...|     DIFERENTES AREAS|MAESTRÍAS EN DIFE...|Reino Unido (Rein...|2015-07-27 00:00:00|El programa está ...| Brindar la oportu...|2015-07-27 00:00:00|\n",
            "|            5200111|GOBIERNO DE INDON...|          HUMANIDADES|ARTES E IDIOMA BA...|Indonesia (Repúbl...|2011-02-14 00:00:00|El programa está ...| El propósito prin...|2011-02-14 00:00:00|\n",
            "|            2238716|         OEA - CIESI| URBANISMO DESARRO...|SUSTAINABLE URBAN...|Perú (República d...|2016-09-30 00:00:00|El programa está ...| > Ofrecer la base...|2016-09-30 00:00:00|\n",
            "|            2118414|          OEA- CITEL|  INGENIERIA Y AFINES|TECNOLOGIAS E ING...|PLATAFORMA DE EDU...|               null|El programa está ...| Objetivo General:...|               null|\n",
            "|            2100914|GOBIERNO DE ARGEN...| CIENCIAS NATURALE...|AUTOPRODUCCIÓN DE...|Argentina (Repúbl...|               null|El curso está ori...| El objetivo princ...|               null|\n",
            "|            2132416|OEA - CITEL - UNI...|  INGENIERIA Y AFINES|INNOVACIÓN TECNOL...|Argentina (Repúbl...|2016-08-31 00:00:00|El programa está ...| > Adquirir un con...|2016-08-31 00:00:00|\n",
            "|            2214811|GOBIERNO DE LA INDIA|  INGENIERIA Y AFINES|MANAGEMENT DEVELO...|India (República ...|               null|\"El programa \"\"De...| Brindar a los par...|               null|\n",
            "|            2209311|OEA - GOBIERNO DE...|  INGENIERIA Y AFINES|MANEJO DE LAS COM...|     Canadá (Canadá)|               null|El programa está ...| El curso esta dis...|               null|\n",
            "|            2218614|                 OEA|       ADMINISTRACIÓN|SEMINARIO SOBRE C...|Estados Unidos (E...|               null|El programa está ...| Entrenar futuros ...|               null|\n",
            "|            2204811|GOBIERNO DE JAPON...| ADMINISTRACIÓN - ...|PLANEACIÓN Y DESA...|       Japón (Japón)|2011-03-23 00:00:00|El programa está ...| >Formular un plan...|2011-03-23 00:00:00|\n",
            "|            2220015|GOBIERNO DE LA INDIA|          HUMANIDADES|CERTIFICATE OF PR...|India (República ...|               null|\"El Programa \"\"Pe...| Ofrecer a los par...|               null|\n",
            "|            2221314|GOBIERNO DE LA INDIA|  INGENIERIA Y AFINES|SPECIALIZED PROGR...|India (República ...|2014-07-30 00:00:00|\"El \"\"Programa es...| Brindar a los par...|2014-07-30 00:00:00|\n",
            "|            6203213|REPÚBLICA DE CORE...|    CIENCIAS SOCIALES|PROGRAMA DE MAEST...|Corea del Sur (Re...|2013-04-15 00:00:00|El programa está ...| > Contribuir al d...|2013-04-15 00:00:00|\n",
            "+-------------------+--------------------+---------------------+--------------------+--------------------+-------------------+--------------------+---------------------+-------------------+\n",
            "only showing top 100 rows\n",
            "\n"
          ]
        }
      ]
    },
    {
      "cell_type": "code",
      "source": [
        "# Limpiando los datos\n",
        "def remove_quotes_from_strings(df_Becas):\n",
        "    for col in df_Becas.columns:\n",
        "        if df_Becas.schema[col].dataType == StringType():\n",
        "            df_Becas = df_Becas.withColumn(col, regexp_replace(df_Becas[col], '\"', ''))\n",
        "    return df_Becas\n",
        "\n",
        "def remove_parentheses_content(text):\n",
        "  return re.sub(r'\\([^)]*\\)', '', text)\n",
        "\n",
        "df_Becas = remove_quotes_from_strings(df_Becas)\n",
        "df_Becas = df_Becas.withColumn(\"nombre_del_pais\", regexp_replace(df_Becas[\"nombre_del_pais\"], r'\\([^)]*\\)', ''))\n",
        "df_Becas = df_Becas.withColumn(\"nombre_del_pais\", when(lower(df_Becas[\"nombre_del_pais\"]).contains(\"plataforma\"), \"Plataforma Virtual\").otherwise(df_Becas[\"nombre_del_pais\"]))\n",
        "df_Becas.show()"
      ],
      "metadata": {
        "id": "FCrkZsmL-pSp",
        "outputId": "d02778c3-ba13-4e4e-99f0-e498ab0c7cb9",
        "colab": {
          "base_uri": "https://localhost:8080/"
        }
      },
      "execution_count": 35,
      "outputs": [
        {
          "output_type": "stream",
          "name": "stdout",
          "text": [
            "+-------------------+--------------------+---------------------+--------------------+------------------+-------------------+--------------------+---------------------+-------------------+\n",
            "|codigo_convocatoria| nombre_del_oferente|area_del_conocimiento| nombre_del_programa|   nombre_del_pais| fecha_de_recepcion|perfil_del_aplicante|objetivo_del_programa|fecha_de_recepcion2|\n",
            "+-------------------+--------------------+---------------------+--------------------+------------------+-------------------+--------------------+---------------------+-------------------+\n",
            "|            2127916|OEA - TOP - ARGEN...|       ADMINISTRACIÓN|POLÍTICAS DE GOBI...|Plataforma Virtual|2016-05-27 00:00:00|El programa está ...| a) Proporcionar a...|2016-05-27 00:00:00|\n",
            "|            3101616|ALIANZA DEL PACÍF...|     DIFERENTES AREAS|PLATAFORMA DE MOV...|            Chile |               null|El programa está ...| El objetivo del P...|               null|\n",
            "|            2221414|GOBIERNO DE LA INDIA|  INGENIERIA Y AFINES|DATA COMMUNICATIO...|            India |2014-07-30 00:00:00|El Programa Comun...| Ofrecer a los par...|2014-07-30 00:00:00|\n",
            "|            3001315|MINISTÈRE DE L'EN...| MAESTRÍAS Y DOCTO...|REDUCCIÓN DE COLE...|           Canadá |               null|El programa está ...| En la presente co...|               null|\n",
            "|            4102316|ALIANZA DEL PACÍF...|     DIFERENTES AREAS|PLATAFORMA DE MOV...|             Perú |               null|El programa está ...| El objetivo del P...|               null|\n",
            "|            2214713|GOBIERNO DE LA INDIA|          HUMANIDADES|PROGRESS TO PROFI...|            India |2013-07-26 00:00:00|El Programa está ...| Brindar a los par...|2013-07-26 00:00:00|\n",
            "|            3900314|    UNESCO - L´OREAL| CIENCIAS NATURALE...|INVESTIGACIÓN PAR...| Diferentes Países|               null|El programa está ...| Identificar y rec...|               null|\n",
            "|            5202816|UNESCO - GOBIERNO...|     DIFERENTES AREAS|PROGRAMA LA GRAN ...|            China |2016-04-29 00:00:00|El programa está ...| Ofrecer a profesi...|2016-04-29 00:00:00|\n",
            "|            2204712|GOBIERNO DE JAPON...|  INGENIERIA Y AFINES|TECNOLOGÍA PRÁCTI...|            Japón |               null|El programa está ...| Brindar a los par...|               null|\n",
            "|            6200312|UNIVERSIDAD CARLO...| POSGRADO DIFERENT...|PROGRAMA DE MAEST...|           España |2012-06-27 00:00:00|El programa está ...| Brindar a profesi...|2012-06-27 00:00:00|\n",
            "|            2233116|GOBIERNO DE LA INDIA|  INGENIERIA Y AFINES|SUSTAINABLE AGRIC...|            India |               null|El programa está ...| El objetivo del c...|               null|\n",
            "|            4100614|ALIANZA DEL PACÍF...|     DIFERENTES AREAS|PLATAFORMA DE MOV...|            Chile |2013-11-28 00:00:00|El programa está ...| El objetivo del P...|2013-11-28 00:00:00|\n",
            "|            5202316|GOBIERNO DE LA INDIA|       ADMINISTRACIÓN|POST GRADUATE DIP...|            India |               null|El programa está ...| El objetivo del p...|               null|\n",
            "|            2000612|OEA - GOBIERNO DE...| DERECHO Y CIENCIA...|XXXIX CURSO DE DE...|           Brasil |2012-04-30 00:00:00|El programa está ...| Estudio- discusió...|2012-04-30 00:00:00|\n",
            "|            6210416|   CURTIN UNIVERSITY| MAESTRÍAS EN DIFE...|MAESTRÍAS EN DIFE...|        Australia |               null|El programa está ...| Ofrecer a profesi...|               null|\n",
            "|            2227715|GOBIERNO DE LA INDIA| CIENCIAS NATURALE...|NATURAL RESOURCE ...|            India |               null|El Programa está ...| Brindar a los par...|               null|\n",
            "|            6110015|INSTITUTO EUROPEO...| MAESTRÍAS EN DIFE...|MBA MAESTRÍAS Y E...|           España |2015-05-19 00:00:00|El programa está ...| Brindar a los par...|2015-05-19 00:00:00|\n",
            "|            6003512|   GOBIERNO DE SUIZA| POSGRADO DIFERENT...|POSGRADO EN DIFER...|            Suiza |2011-10-24 00:00:00|El programa está ...| Brindar a los pro...|2011-10-24 00:00:00|\n",
            "|            2105611|GOBIERNO DE JAPON...| CIENCIAS AGROPECU...|METODOLOGÍAS DE E...|            Japón |               null|El programa está ...| Implementar el pr...|               null|\n",
            "|            2222714|SINGAPORE COOPERA...| ADMINISTRACIÓN - ...|HUMAN RESOURCE MA...|         Singapur |2014-09-29 00:00:00|El programa esta ...| El curso tiene co...|2014-09-29 00:00:00|\n",
            "+-------------------+--------------------+---------------------+--------------------+------------------+-------------------+--------------------+---------------------+-------------------+\n",
            "only showing top 20 rows\n",
            "\n"
          ]
        }
      ]
    },
    {
      "cell_type": "markdown",
      "metadata": {
        "id": "pDX41ab4LO7g"
      },
      "source": [
        "##**B) Aumento de ofertas de becas**\n",
        "\n",
        "Identifique si la cantidad de becas ofrecidas para ciudadanos colombianos se ha incrementado con los años"
      ]
    },
    {
      "cell_type": "markdown",
      "metadata": {
        "id": "bSlgm0j-NQjn"
      },
      "source": [
        "Presente aquí el código desarrollado y el resultado obtenido"
      ]
    },
    {
      "cell_type": "code",
      "source": [
        "\n",
        "df_Anios_Becas = spark.sql(\"\"\"\n",
        "    SELECT year(fecha_de_recepcion) year_convocatoria, count(*) as Becas FROM Becas\n",
        "    where fecha_de_recepcion is not null\n",
        "    Group by year_convocatoria\n",
        "    order by year_convocatoria ASC\n",
        "\"\"\")\n",
        "df_Anios_Becas.show(10000, False)\n"
      ],
      "metadata": {
        "id": "XbUie9MVi6_u",
        "outputId": "25dd9049-c5b4-4c6d-e913-efc11f16b81c",
        "colab": {
          "base_uri": "https://localhost:8080/"
        }
      },
      "execution_count": 58,
      "outputs": [
        {
          "output_type": "stream",
          "name": "stdout",
          "text": [
            "+-----------------+-----+\n",
            "|year_convocatoria|Becas|\n",
            "+-----------------+-----+\n",
            "|2011             |126  |\n",
            "|2012             |135  |\n",
            "|2013             |121  |\n",
            "|2014             |165  |\n",
            "|2015             |114  |\n",
            "|2016             |177  |\n",
            "+-----------------+-----+\n",
            "\n"
          ]
        }
      ]
    },
    {
      "cell_type": "code",
      "source": [
        "# prompt: plot df_Anios_Becas as timeline just one line\n",
        "\n",
        "import matplotlib.pyplot as plt\n",
        "\n",
        "# Convert Spark DataFrame to Pandas DataFrame for plotting\n",
        "df_Anios_Becas_pd = df_Anios_Becas.toPandas()\n",
        "\n",
        "# Create the timeline plot\n",
        "plt.figure(figsize=(10, 6))  # Adjust figure size if needed\n",
        "plt.plot(df_Anios_Becas_pd['year_convocatoria'], df_Anios_Becas_pd['Becas'])\n",
        "plt.xlabel('Year')\n",
        "plt.ylabel('Number of Scholarships')\n",
        "plt.title('Timeline of Scholarships Offered')\n",
        "plt.grid(True)\n",
        "plt.show()"
      ],
      "metadata": {
        "id": "5jJBSpNtlDis",
        "outputId": "ca9a41e7-d9d5-4834-8603-e6be9a707e66",
        "colab": {
          "base_uri": "https://localhost:8080/",
          "height": 564
        }
      },
      "execution_count": 59,
      "outputs": [
        {
          "output_type": "display_data",
          "data": {
            "text/plain": [
              "<Figure size 1000x600 with 1 Axes>"
            ],
            "image/png": "[encoded data removed]"
          },
          "metadata": {}
        }
      ]
    },
    {
      "cell_type": "markdown",
      "metadata": {
        "id": "T89Y60StLUuh"
      },
      "source": [
        "##**C) Paises que han ofrecido becas**\n",
        "\n",
        "Presente un listado con todos los países (diferentes de Colombia) de los que se tiene reporte que han ofrecido becas para estudiantes colombianos (*solamente presentar nombres de países, y estos solo deben aparecer una única vez en la lista*)"
      ]
    },
    {
      "cell_type": "markdown",
      "metadata": {
        "id": "xWQkDcDZNRVa"
      },
      "source": [
        "Presente aquí el código desarrollado y el resultado obtenido"
      ]
    },
    {
      "cell_type": "code",
      "source": [
        "df_Anios_Becas = spark.sql(\"\"\"\n",
        "    SELECT nombre_del_pais FROM Becas\n",
        "    where nombre_del_pais != 'Colombia'\n",
        "    Group by nombre_del_pais\n",
        "    order by nombre_del_pais ASC\n",
        "\"\"\")\n",
        "df_Anios_Becas.show(10000, False)"
      ],
      "metadata": {
        "id": "sVRkpgW-nA9W",
        "outputId": "6e318005-a730-4970-825f-414405f144d3",
        "colab": {
          "base_uri": "https://localhost:8080/"
        }
      },
      "execution_count": 65,
      "outputs": [
        {
          "output_type": "stream",
          "name": "stdout",
          "text": [
            "+-------------------------------------------------+\n",
            "|nombre_del_pais                                  |\n",
            "+-------------------------------------------------+\n",
            "|Argentina                                        |\n",
            "|Australia                                        |\n",
            "|Barbados Jamaica & Trinidad y Tobago             |\n",
            "|Belice                                           |\n",
            "|Brasil                                           |\n",
            "|Brunéi                                           |\n",
            "|Bélgica                                          |\n",
            "|Canadá                                           |\n",
            "|Checa Rep.                                       |\n",
            "|Chile                                            |\n",
            "|China                                            |\n",
            "|Colombia                                         |\n",
            "|Corea del Sur                                    |\n",
            "|Costa Rica                                       |\n",
            "|Diferentes Países                                |\n",
            "|Ecuador                                          |\n",
            "|Egipto                                           |\n",
            "|España                                           |\n",
            "|Estados Unidos                                   |\n",
            "|Estados Unidos Mexicanos España y Alemania       |\n",
            "|Estados Unidos Reino Unido Emiratos Árabes China.|\n",
            "|Francia                                          |\n",
            "|Honduras                                         |\n",
            "|Hungría                                          |\n",
            "|India                                            |\n",
            "|Indonesia                                        |\n",
            "|Israel                                           |\n",
            "|Italia                                           |\n",
            "|Japón                                            |\n",
            "|Malasia                                          |\n",
            "|México                                           |\n",
            "|Nicaragua                                        |\n",
            "|Nueva Zelanda                                    |\n",
            "|Panamá                                           |\n",
            "|Paraguay                                         |\n",
            "|Perú                                             |\n",
            "|Plataforma Virtual                               |\n",
            "|Polonia                                          |\n",
            "|Puerto Rico                                      |\n",
            "|Reino Unido                                      |\n",
            "|Rusia                                            |\n",
            "|Singapur                                         |\n",
            "|Suecia                                           |\n",
            "|Suiza                                            |\n",
            "|Tailandia                                        |\n",
            "|Taiwán                                           |\n",
            "|Trinidad y Tobago                                |\n",
            "|Turquía                                          |\n",
            "|Uruguay                                          |\n",
            "+-------------------------------------------------+\n",
            "\n"
          ]
        }
      ]
    },
    {
      "cell_type": "markdown",
      "metadata": {
        "id": "WlI7cjLXLdlQ"
      },
      "source": [
        "##**D) Áreas del conocimiento y Posgrados**\n",
        "\n",
        "Se desea averiguar cúal es el área de conocimiento predominante por país. Además, queremos conocer qué porcentaje de los programas ofrecidos (**de acuerdo al nombre del programa**) corresponden a estudios de posgrado."
      ]
    },
    {
      "cell_type": "markdown",
      "metadata": {
        "id": "gaYRRcaPlN9w"
      },
      "source": [
        "Presente aquí el código desarrollado y el resultado obtenido"
      ]
    },
    {
      "cell_type": "code",
      "source": [
        "spark.sql(\"\"\"\n",
        "          Select area_del_conocimiento, count(*) as becas From Becas\n",
        "          Group by area_del_conocimiento\n",
        "          Order by count(*) DESC\n",
        "          \"\"\"\n",
        ").show(100, False)"
      ],
      "metadata": {
        "id": "KFzuhikipq0A",
        "outputId": "96426b4c-2c44-4b59-c496-69251f3ab246",
        "colab": {
          "base_uri": "https://localhost:8080/"
        }
      },
      "execution_count": 72,
      "outputs": [
        {
          "output_type": "stream",
          "name": "stdout",
          "text": [
            "+-----------------------------------------------+-----+\n",
            "|area_del_conocimiento                          |becas|\n",
            "+-----------------------------------------------+-----+\n",
            "|ADMINISTRACIÓN                                 |248  |\n",
            "|INGENIERIA Y AFINES                            |230  |\n",
            "|DIFERENTES AREAS                               |159  |\n",
            "|ADMINISTRACIÓN - ECONOMÍA                      |107  |\n",
            "|CIENCIAS AGROPECUARIAS                         |95   |\n",
            "|CIENCIAS DE LA EDUCACION                       |85   |\n",
            "|CIENCIAS SOCIALES                              |84   |\n",
            "|HUMANIDADES                                    |61   |\n",
            "|MAESTRÍAS EN DIFERENTES ÁREAS                  |58   |\n",
            "|POSGRADO DIFERENTES AREAS                      |45   |\n",
            "|CIENCIAS NATURALES Y ECOLOGIA                  |43   |\n",
            "|ADMINISTRACIÓN - INGENIERÍA Y AFINES           |29   |\n",
            "|MAESTRÍAS Y DOCTORADOS EN DIFERENTES ÁREAS     |28   |\n",
            "|PREGRADO EN DIFERENTES AREAS                   |27   |\n",
            "|CIENCIAS NATURALES O AGROPECUARIAS             |20   |\n",
            "|IDIOMAS                                        |20   |\n",
            "|CIENCIAS DE LA SALUD                           |19   |\n",
            "|DERECHO Y CIENCIAS POLITICAS                   |18   |\n",
            "|DOCTORADO EN DIFERENTES ÁREAS                  |17   |\n",
            "|INGENIERIA Y ADMINISTRACION                    |14   |\n",
            "|ECONOMIA                                       |13   |\n",
            "|CIENCIAS AGROPECUARIAS- INGENIERIA Y AFINES    |7    |\n",
            "|HUMANIDADES- DERECHO                           |7    |\n",
            "|ARTES                                          |7    |\n",
            "|CIENCIAS NATURALES Y OTRAS BÁSICAS             |6    |\n",
            "|INVESTIGACION DIFERENTES AREAS                 |6    |\n",
            "|ADMINISTRACIÓN - CIENCIAS DE LA SALUD          |5    |\n",
            "|CIENCIAS DE LA SALUD ECONOMICAS Y SOCIALES     |5    |\n",
            "|ARQUITECTURA Y URBANISMO                       |4    |\n",
            "|INGENIERIA C.SOCIALES C.EDUCACIÓN Y HUMANIDADES|4    |\n",
            "|BELLAS ARTES                                   |3    |\n",
            "|CIENCIAS SOCIALES Y ECONOMIA                   |3    |\n",
            "|BACHILLERATO INTERNACIONAL                     |3    |\n",
            "|PROGRAMA ALFONSO LOPEZ MICHELSEN DH Y DIH      |1    |\n",
            "|URBANISMO DESARROLLO Y ECOLOGIA                |1    |\n",
            "|Ingeniería de sistemas-/Medios audiovisuales   |1    |\n",
            "|ADMINISTRACIÓN COMUNICACIÓN MARKETING - AFINES |1    |\n",
            "|MEDICINA Y CIENCIAS NATURALES                  |1    |\n",
            "+-----------------------------------------------+-----+\n",
            "\n"
          ]
        }
      ]
    },
    {
      "cell_type": "markdown",
      "metadata": {
        "id": "HGwierHTLFt3"
      },
      "source": [
        "##**E) ¿Qué podemos concluir a partir del Perfil del Aspirante y el Objetivo del Programa?**\n",
        "\n",
        "Se dispone de dos campos de descripción, que no emplean un formato claro que permita analizar los perfiles de los aspirantes con respecto al objetivo del programa.\n",
        "\n",
        "Plantee una forma de analizar esta información para conocer las relaciones entre los perfiles y lo objetivos."
      ]
    },
    {
      "cell_type": "markdown",
      "metadata": {
        "id": "xHtI3jGcNTNn"
      },
      "source": [
        "Presente aquí el código desarrollado y el resultado obtenido"
      ]
    },
    {
      "cell_type": "markdown",
      "metadata": {
        "id": "4JYIy6EaEISf"
      },
      "source": [
        "##**Análisis de los resultados**\n",
        "\n",
        "Teniendo en cuenta los resultados obtenidos en los puntos anteriores, presente sus impresiones sobre las becas académicas disponibles para los estudiantes colombianos.\n"
      ]
    },
    {
      "cell_type": "markdown",
      "metadata": {
        "id": "FIWNCDYECHFb"
      },
      "source": [
        "#**Notas:**\n",
        "\n",
        "* Analice los resultados de cada punto y presente sus conclusiones\n",
        "* Utilice al menos una vez cada uno de los siguientes métodos\n",
        "\n",
        "  *   agg\n",
        "  *   withColumn\n",
        "  *   groupBy\n",
        "  *   sql\n",
        "  *   registerFunction"
      ]
    }
  ],
  "metadata": {
    "colab": {
      "provenance": [],
      "include_colab_link": true
    },
    "kernelspec": {
      "display_name": "Python 3",
      "name": "python3"
    }
  },
  "nbformat": 4,
  "nbformat_minor": 0
}